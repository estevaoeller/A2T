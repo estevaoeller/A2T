# Projeto A2T

Primeiro commit do repositório.
