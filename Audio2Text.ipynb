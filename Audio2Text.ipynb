{
  "cells": [
    {
      "cell_type": "markdown",
      "metadata": {
        "id": "view-in-github",
        "colab_type": "text"
      },
      "source": [
        "<a href=\"https://colab.research.google.com/github/estevaoeller/A2T/blob/main/Audio2Text.ipynb\" target=\"_parent\"><img src=\"https://colab.research.google.com/assets/colab-badge.svg\" alt=\"Open In Colab\"/></a>"
      ]
    },
    {
      "cell_type": "markdown",
      "metadata": {
        "id": "y4sOoWj1-ALz"
      },
      "source": []
    },
    {
      "cell_type": "code",
      "execution_count": null,
      "metadata": {
        "id": "H_GX6WSf9zzP"
      },
      "outputs": [],
      "source": []
    },
    {
      "cell_type": "code",
      "execution_count": null,
      "metadata": {
        "colab": {
          "base_uri": "https://localhost:8080/"
        },
        "id": "NsS7rS861hZA",
        "outputId": "05efac07-5099-494b-a368-176b279c3304"
      },
      "outputs": [
        {
          "output_type": "stream",
          "name": "stdout",
          "text": [
            "  Installing build dependencies ... \u001b[?25l\u001b[?25hdone\n",
            "  Getting requirements to build wheel ... \u001b[?25l\u001b[?25hdone\n",
            "  Preparing metadata (pyproject.toml) ... \u001b[?25l\u001b[?25hdone\n",
            "\u001b[2K   \u001b[90m━━━━━━━━━━━━━━━━━━━━━━━━━━━━━━━━━━━━━━━━\u001b[0m \u001b[32m363.4/363.4 MB\u001b[0m \u001b[31m5.0 MB/s\u001b[0m eta \u001b[36m0:00:00\u001b[0m\n",
            "\u001b[2K   \u001b[90m━━━━━━━━━━━━━━━━━━━━━━━━━━━━━━━━━━━━━━━━\u001b[0m \u001b[32m13.8/13.8 MB\u001b[0m \u001b[31m116.7 MB/s\u001b[0m eta \u001b[36m0:00:00\u001b[0m\n",
            "\u001b[2K   \u001b[90m━━━━━━━━━━━━━━━━━━━━━━━━━━━━━━━━━━━━━━━━\u001b[0m \u001b[32m24.6/24.6 MB\u001b[0m \u001b[31m84.5 MB/s\u001b[0m eta \u001b[36m0:00:00\u001b[0m\n",
            "\u001b[2K   \u001b[90m━━━━━━━━━━━━━━━━━━━━━━━━━━━━━━━━━━━━━━━━\u001b[0m \u001b[32m883.7/883.7 kB\u001b[0m \u001b[31m60.7 MB/s\u001b[0m eta \u001b[36m0:00:00\u001b[0m\n",
            "\u001b[2K   \u001b[90m━━━━━━━━━━━━━━━━━━━━━━━━━━━━━━━━━━━━━━━━\u001b[0m \u001b[32m664.8/664.8 MB\u001b[0m \u001b[31m2.0 MB/s\u001b[0m eta \u001b[36m0:00:00\u001b[0m\n",
            "\u001b[2K   \u001b[90m━━━━━━━━━━━━━━━━━━━━━━━━━━━━━━━━━━━━━━━━\u001b[0m \u001b[32m211.5/211.5 MB\u001b[0m \u001b[31m5.6 MB/s\u001b[0m eta \u001b[36m0:00:00\u001b[0m\n",
            "\u001b[2K   \u001b[90m━━━━━━━━━━━━━━━━━━━━━━━━━━━━━━━━━━━━━━━━\u001b[0m \u001b[32m56.3/56.3 MB\u001b[0m \u001b[31m15.5 MB/s\u001b[0m eta \u001b[36m0:00:00\u001b[0m\n",
            "\u001b[2K   \u001b[90m━━━━━━━━━━━━━━━━━━━━━━━━━━━━━━━━━━━━━━━━\u001b[0m \u001b[32m127.9/127.9 MB\u001b[0m \u001b[31m7.3 MB/s\u001b[0m eta \u001b[36m0:00:00\u001b[0m\n",
            "\u001b[2K   \u001b[90m━━━━━━━━━━━━━━━━━━━━━━━━━━━━━━━━━━━━━━━━\u001b[0m \u001b[32m207.5/207.5 MB\u001b[0m \u001b[31m5.4 MB/s\u001b[0m eta \u001b[36m0:00:00\u001b[0m\n",
            "\u001b[2K   \u001b[90m━━━━━━━━━━━━━━━━━━━━━━━━━━━━━━━━━━━━━━━━\u001b[0m \u001b[32m21.1/21.1 MB\u001b[0m \u001b[31m100.6 MB/s\u001b[0m eta \u001b[36m0:00:00\u001b[0m\n",
            "\u001b[?25h  Building wheel for openai-whisper (pyproject.toml) ... \u001b[?25l\u001b[?25hdone\n"
          ]
        }
      ],
      "source": [
        "# 1. Instalação da biblioteca do Whisper\n",
        "!pip install -q git+https://github.com/openai/whisper.git\n",
        "!pip install -q soundfile # Dependência para ler alguns formatos de áudio\n"
      ]
    },
    {
      "cell_type": "code",
      "execution_count": null,
      "metadata": {
        "colab": {
          "base_uri": "https://localhost:8080/"
        },
        "id": "ZiNurwMC-Mhd",
        "outputId": "f4378d94-2fcc-47e7-94a4-a4ca1c7cbb0c"
      },
      "outputs": [
        {
          "output_type": "stream",
          "name": "stdout",
          "text": [
            "Conectando ao Google Drive...\n",
            "Mounted at /content/drive\n",
            "Google Drive conectado com sucesso!\n"
          ]
        }
      ],
      "source": [
        "from google.colab import drive\n",
        "\n",
        "print(\"Conectando ao Google Drive...\")\n",
        "drive.mount('/content/drive')\n",
        "print(\"Google Drive conectado com sucesso!\")"
      ]
    },
    {
      "cell_type": "code",
      "execution_count": null,
      "metadata": {
        "colab": {
          "base_uri": "https://localhost:8080/"
        },
        "id": "YewHxIQx-Nbh",
        "outputId": "0c700f02-9237-4aba-df3f-4c476894f819"
      },
      "outputs": [
        {
          "output_type": "stream",
          "name": "stdout",
          "text": [
            "Carregando o modelo Whisper ('medium')... Isso pode levar um momento.\n"
          ]
        },
        {
          "output_type": "stream",
          "name": "stderr",
          "text": [
            "100%|█████████████████████████████████████| 1.42G/1.42G [00:31<00:00, 47.9MiB/s]\n"
          ]
        },
        {
          "output_type": "stream",
          "name": "stdout",
          "text": [
            "Modelo carregado.\n"
          ]
        }
      ],
      "source": [
        "import whisper\n",
        "import os\n",
        "import time\n",
        "import datetime # Para obter a data e hora\n",
        "import shutil   # Para copiar arquivos\n",
        "\n",
        "\n",
        "from google.colab import drive\n",
        "\n",
        "# PASSO 1: CONFIGURAÇÕES\n",
        "\n",
        "\n",
        "# Caminhos para as pastas de trabalho\n",
        "PASTA_RAIZ = \"/content/drive/MyDrive/Audio2Text\"\n",
        "PASTA_DE_ORIGEM = os.path.join(PASTA_RAIZ, \"1_Source\")\n",
        "PASTA_DE_DESTINO_TXT = os.path.join(PASTA_RAIZ, \"2_Result\")\n",
        "PASTA_DE_ARQUIVAMENTO = os.path.join(PASTA_RAIZ, \"3_Processed\") # Nova pasta para arquivar\n",
        "\n",
        "\n",
        "# --- Escolha do Modelo ---\n",
        "# Opções: 'tiny', 'base', 'small', 'medium', 'large'\n",
        "# 'base' é rápido e bom.\n",
        "# 'medium' é mais preciso e um ótimo equilíbrio para a GPU do Colab.\n",
        "# 'large' é o mais preciso, mas também o mais lento.\n",
        "MODEL_SIZE = \"medium\"\n",
        "\n",
        "\n",
        "# Lista de extensões de áudio que o script deve procurar\n",
        "EXTENSOES_VALIDAS = ('.mp3', '.wav', '.m4a', '.flac', '.ogg', '.3gp', '.mp4', '.opus', '.aac')\n",
        "\n",
        "\n",
        "# PASSO 2: CARREGAR O MODELO WHISPER\n",
        "print(f\"Carregando o modelo Whisper ('{MODEL_SIZE}')... Isso pode levar um momento.\")\n",
        "model = whisper.load_model(MODEL_SIZE)\n",
        "print(\"Modelo carregado.\")\n",
        "\n",
        "\n"
      ]
    },
    {
      "cell_type": "code",
      "execution_count": null,
      "metadata": {
        "id": "N38lRDby-Va1",
        "colab": {
          "base_uri": "https://localhost:8080/"
        },
        "outputId": "7b4e1925-96f7-42f1-e503-7c4b79d4a122"
      },
      "outputs": [
        {
          "output_type": "stream",
          "name": "stdout",
          "text": [
            "🔎 Verificando arquivos na pasta de origem...\n",
            "▶️ Iniciando processamento de 1 item(ns)...\n",
            "\n",
            "--- Processando: scs 250723.mp3 ---\n",
            "Transcrição concluída em 783.46s.\n",
            "Resultado salvo em: /content/drive/MyDrive/Audio2Text/2_Result\n",
            "Arquivos copiados para: /content/drive/MyDrive/Audio2Text/3_Processed\n",
            "Arquivo original 'scs 250723.mp3' removido da pasta de origem.\n",
            "\n",
            "✅ Processo finalizado para todos os arquivos!\n"
          ]
        }
      ],
      "source": [
        "# @title\n",
        "# ==============================================================================\n",
        "# CÉLULA 2: PROCESSAMENTO E ARQUIVAMENTO\n",
        "# Execute esta célula sempre que tiver novos arquivos na pasta '1_Source'.\n",
        "# ==============================================================================\n",
        "import time\n",
        "\n",
        "print(\"🔎 Verificando arquivos na pasta de origem...\")\n",
        "arquivos_na_pasta = os.listdir(PASTA_DE_ORIGEM)\n",
        "\n",
        "if not any(f.lower().endswith(EXTENSOES_VALIDAS) for f in arquivos_na_pasta):\n",
        "    print(\"✅ Nenhum arquivo de áudio novo encontrado na pasta de origem. Tudo certo!\")\n",
        "else:\n",
        "    print(f\"▶️ Iniciando processamento de {len(arquivos_na_pasta)} item(ns)...\")\n",
        "    for nome_do_arquivo in arquivos_na_pasta:\n",
        "        if nome_do_arquivo.lower().endswith(EXTENSOES_VALIDAS):\n",
        "            caminho_audio_origem = os.path.join(PASTA_DE_ORIGEM, nome_do_arquivo)\n",
        "            print(f\"\\n--- Processando: {nome_do_arquivo} ---\")\n",
        "\n",
        "            try:\n",
        "                # 1. Transcrição\n",
        "                start_time = time.time()\n",
        "                result = model.transcribe(caminho_audio_origem, language=\"pt\", fp16=False)\n",
        "                end_time = time.time()\n",
        "                print(f\"Transcrição concluída em {end_time - start_time:.2f}s.\")\n",
        "\n",
        "                # 2. Salvamento do .txt\n",
        "                nome_base_arquivo = os.path.splitext(nome_do_arquivo)[0]\n",
        "                nome_arquivo_txt = f\"transcricao_{nome_base_arquivo}.txt\"\n",
        "                caminho_txt_destino = os.path.join(PASTA_DE_DESTINO_TXT, nome_arquivo_txt)\n",
        "                with open(caminho_txt_destino, \"w\", encoding=\"utf-8\") as f:\n",
        "                    f.write(result[\"text\"])\n",
        "                print(f\"Resultado salvo em: {PASTA_DE_DESTINO_TXT}\")\n",
        "\n",
        "                # 3. Arquivamento\n",
        "                timestamp = datetime.datetime.now().strftime(\"%y%m%d_%H%M%S\") # Adicionado segundos para evitar conflito\n",
        "                nome_pasta_arquivamento = f\"{timestamp}_{nome_base_arquivo}\"\n",
        "                caminho_pasta_arquivamento = os.path.join(PASTA_DE_ARQUIVAMENTO, nome_pasta_arquivamento)\n",
        "                os.makedirs(caminho_pasta_arquivamento, exist_ok=True)\n",
        "\n",
        "                shutil.copy(caminho_audio_origem, caminho_pasta_arquivamento)\n",
        "                shutil.copy(caminho_txt_destino, caminho_pasta_arquivamento)\n",
        "                print(f\"Arquivos copiados para: {PASTA_DE_ARQUIVAMENTO}\")\n",
        "\n",
        "                # 4. Limpeza (opcional, mas recomendado): remove o arquivo original para não ser processado de novo\n",
        "                os.remove(caminho_audio_origem)\n",
        "                print(f\"Arquivo original '{nome_do_arquivo}' removido da pasta de origem.\")\n",
        "\n",
        "            except Exception as e:\n",
        "                print(f\"❌ Ocorreu um erro ao processar o arquivo {nome_do_arquivo}: {e}\")\n",
        "        else:\n",
        "            print(f\"- Ignorando: {nome_do_arquivo}\")\n",
        "\n",
        "    print(\"\\n✅ Processo finalizado para todos os arquivos!\")"
      ]
    },
    {
      "cell_type": "code",
      "execution_count": null,
      "metadata": {
        "id": "vPXAFc7P-RyO",
        "colab": {
          "base_uri": "https://localhost:8080/"
        },
        "outputId": "1c869221-5ce5-46e0-ee38-30b3408b296a"
      },
      "outputs": [
        {
          "output_type": "stream",
          "name": "stdout",
          "text": [
            "Dicionário de correções personalizadas carregado para correção adicional.\n",
            "Iniciando correção adicional para o arquivo com nome base: 'coloque_aqui_o_nome_base_do_seu_audio'\n",
            "❌ Erro: Não foi possível encontrar a pasta de arquivamento para o áudio 'coloque_aqui_o_nome_base_do_seu_audio' em '/content/drive/MyDrive/Audio2Text/3_Processed'. Verifique o nome base.\n"
          ]
        }
      ],
      "source": [
        "import os\n",
        "import re\n",
        "import sys\n",
        "import shutil # Needed if you want to copy files around, but mostly for this cell, just for context\n",
        "\n",
        "# Make sure these variables are defined in your initial setup cell and are globally accessible\n",
        "# PASTA_RAIZ = \"/content/drive/MyDrive/Audio2Text\"\n",
        "# PASTA_DE_ARQUIVAMENTO = os.path.join(PASTA_RAIZ, \"3_Processed\")\n",
        "\n",
        "# Import the custom corrections module\n",
        "if PASTA_RAIZ not in sys.path:\n",
        "    sys.path.append(PASTA_RAIZ)\n",
        "\n",
        "try:\n",
        "    from correcoes_personalizadas import CORRECOES_PT_BR\n",
        "    print(\"Dicionário de correções personalizadas carregado para correção adicional.\")\n",
        "except ImportError:\n",
        "    print(\"AVISO: Arquivo 'correcoes_personalizadas.py' não encontrado ou com erro. Nenhuma correção personalizada será aplicada nesta célula.\")\n",
        "    CORRECOES_PT_BR = {}\n",
        "\n",
        "\n",
        "# ==============================================================================\n",
        "# CÉLULA 3 (NOVA): CORREÇÃO ADICIONAL / RE-CORREÇÃO DE ARQUIVOS ARQUIVADOS\n",
        "# Execute esta célula para aplicar correções a arquivos TXT já arquivados.\n",
        "# ==============================================================================\n",
        "\n",
        "# --- CONFIGURAÇÃO PARA ESTA CÉLULA ESPECÍFICA ---\n",
        "# Você precisa definir QUAL ARQUIVO VOCÊ QUER CORRIGIR NOVAMENTE.\n",
        "# NOME_BASE_DO_AUDIO: O nome original do seu arquivo de áudio (SEM EXTENSÃO).\n",
        "# Ex: Se o seu arquivo original era 'minha_reuniao.mp3', defina como 'minha_reuniao'.\n",
        "NOME_BASE_DO_AUDIO = \"coloque_aqui_o_nome_base_do_seu_audio\" # <-- ***MUDE ISTO***\n",
        "\n",
        "# Prefixo do arquivo que você quer usar como base para a correção.\n",
        "# Opções comuns: \"transcricao\" (para o original transcrito) ou \"corrigido\" (para a versão já corrigida).\n",
        "PREFIXO_ARQUIVO_DE_ENTRADA = \"transcricao\" # <-- ***MUDE ISTO*** (se for \"corrigido\", por exemplo)\n",
        "\n",
        "# Prefixo para o NOVO arquivo corrigido que será gerado por esta célula.\n",
        "# Ex: 'final_', 'corrigido_v2_', 'revisado_'.\n",
        "NOVO_PREFIXO_ARQUIVO_SAIDA = \"final_\" # <-- ***MUDE ISTO***\n",
        "\n",
        "\n",
        "print(f\"Iniciando correção adicional para o arquivo com nome base: '{NOME_BASE_DO_AUDIO}'\")\n",
        "\n",
        "# 1. Localizar a pasta de arquivamento correspondente em 3_Processed\n",
        "# Procuramos por uma pasta que contenha o NOME_BASE_DO_AUDIO no seu nome (devido ao timestamp)\n",
        "caminho_pasta_arquivamento_do_audio = None\n",
        "for pasta_arquivada in os.listdir(PASTA_DE_ARQUIVAMENTO):\n",
        "    if NOME_BASE_DO_AUDIO in pasta_arquivada:\n",
        "        caminho_pasta_arquivamento_do_audio = os.path.join(PASTA_DE_ARQUIVAMENTO, pasta_arquivada)\n",
        "        break\n",
        "\n",
        "if not caminho_pasta_arquivamento_do_audio:\n",
        "    print(f\"❌ Erro: Não foi possível encontrar a pasta de arquivamento para o áudio '{NOME_BASE_DO_AUDIO}' em '{PASTA_DE_ARQUIVAMENTO}'. Verifique o nome base.\")\n",
        "else:\n",
        "    print(f\"Pasta de arquivamento encontrada: {caminho_pasta_arquivamento_do_audio}\")\n",
        "\n",
        "    # 2. Localizar o arquivo TXT de entrada (transcricao_*.txt ou corrigido_*.txt) dentro desta pasta\n",
        "    caminho_arquivo_txt_entrada = None\n",
        "    for f_name in os.listdir(caminho_pasta_arquivamento_do_audio):\n",
        "        if f_name.lower().startswith(f\"{PREFIXO_ARQUIVO_DE_ENTRADA}_\") and f_name.lower().endswith(\".txt\"):\n",
        "            caminho_arquivo_txt_entrada = os.path.join(caminho_pasta_arquivamento_do_audio, f_name)\n",
        "            break\n",
        "\n",
        "    if not caminho_arquivo_txt_entrada:\n",
        "        print(f\"❌ Erro: Arquivo '{PREFIXO_ARQUIVO_DE_ENTRADA}_{NOME_BASE_DO_AUDIO}.txt' não encontrado na pasta '{os.path.basename(caminho_pasta_arquivamento_do_audio)}'. Verifique o prefixo ou se o arquivo existe.\")\n",
        "    else:\n",
        "        print(f\"Arquivo de entrada para correção encontrado: {os.path.basename(caminho_arquivo_txt_entrada)}\")\n",
        "\n",
        "        try:\n",
        "            # 3. Ler o conteúdo do arquivo TXT de entrada\n",
        "            with open(caminho_arquivo_txt_entrada, \"r\", encoding=\"utf-8\") as f:\n",
        "                texto_para_corrigir = f.read()\n",
        "            print(\"Conteúdo do arquivo de entrada lido.\")\n",
        "\n",
        "            # 4. Aplicar as correções personalizadas\n",
        "            texto_processado = texto_para_corrigir\n",
        "            for erro, correcao in CORRECOES_PT_BR.items():\n",
        "                # Usa regex para substituir apenas a palavra/frase inteira, ignorando maiúsculas/minúsculas\n",
        "                # Isso é crucial para lidar com as correções contextuais (frases)\n",
        "                texto_processado = re.sub(r'\\b' + re.escape(erro) + r'\\b', correcao, texto_processado, flags=re.IGNORECASE)\n",
        "            print(\"Correções personalizadas aplicadas ao texto.\")\n",
        "\n",
        "            # 5. Salvar o NOVO arquivo TXT corrigido na mesma pasta de arquivamento\n",
        "            nome_arquivo_txt_saida = f\"{NOVO_PREFIXO_ARQUIVO_SAIDA}{NOME_BASE_DO_AUDIO}.txt\"\n",
        "            caminho_arquivo_txt_saida_final = os.path.join(caminho_pasta_arquivamento_do_audio, nome_arquivo_txt_saida)\n",
        "\n",
        "            with open(caminho_arquivo_txt_saida_final, \"w\", encoding=\"utf-8\") as f:\n",
        "                f.write(texto_processado)\n",
        "            print(f\"Texto CORRIGIDO (versão adicional) salvo em: {caminho_arquivo_txt_saida_final}\")\n",
        "\n",
        "        except Exception as e:\n",
        "            print(f\"❌ Ocorreu um erro ao processar o arquivo para correção adicional: {e}\")\n",
        "\n",
        "    print(\"\\n✅ Processo de Correção Adicional finalizado!\")"
      ]
    }
  ],
  "metadata": {
    "accelerator": "GPU",
    "colab": {
      "gpuType": "T4",
      "provenance": [],
      "authorship_tag": "ABX9TyMURZf0YLnh02sGhx7H+MKR",
      "include_colab_link": true
    },
    "kernelspec": {
      "display_name": "Python 3",
      "name": "python3"
    },
    "language_info": {
      "name": "python"
    }
  },
  "nbformat": 4,
  "nbformat_minor": 0
}